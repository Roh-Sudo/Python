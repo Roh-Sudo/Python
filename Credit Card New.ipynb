{
 "cells": [
  {
   "cell_type": "code",
   "execution_count": 1,
   "metadata": {},
   "outputs": [
    {
     "name": "stderr",
     "output_type": "stream",
     "text": [
      "Using TensorFlow backend.\n"
     ]
    }
   ],
   "source": [
    "import pandas as pd\n",
    "import matplotlib.pyplot as plt\n",
    "import numpy as np\n",
    "import keras\n",
    "import seaborn as sn\n",
    "np.random.seed(2)\n",
    "%matplotlib inline"
   ]
  },
  {
   "cell_type": "code",
   "execution_count": 2,
   "metadata": {},
   "outputs": [],
   "source": [
    "data = pd.read_csv(r'E:\\Machine Learning\\Credit card Fraud\\creditcard.csv')"
   ]
  },
  {
   "cell_type": "code",
   "execution_count": 3,
   "metadata": {},
   "outputs": [
    {
     "data": {
      "text/html": [
       "<div>\n",
       "<style scoped>\n",
       "    .dataframe tbody tr th:only-of-type {\n",
       "        vertical-align: middle;\n",
       "    }\n",
       "\n",
       "    .dataframe tbody tr th {\n",
       "        vertical-align: top;\n",
       "    }\n",
       "\n",
       "    .dataframe thead th {\n",
       "        text-align: right;\n",
       "    }\n",
       "</style>\n",
       "<table border=\"1\" class=\"dataframe\">\n",
       "  <thead>\n",
       "    <tr style=\"text-align: right;\">\n",
       "      <th></th>\n",
       "      <th>Time</th>\n",
       "      <th>V1</th>\n",
       "      <th>V2</th>\n",
       "      <th>V3</th>\n",
       "      <th>V4</th>\n",
       "      <th>V5</th>\n",
       "      <th>V6</th>\n",
       "      <th>V7</th>\n",
       "      <th>V8</th>\n",
       "      <th>V9</th>\n",
       "      <th>...</th>\n",
       "      <th>V21</th>\n",
       "      <th>V22</th>\n",
       "      <th>V23</th>\n",
       "      <th>V24</th>\n",
       "      <th>V25</th>\n",
       "      <th>V26</th>\n",
       "      <th>V27</th>\n",
       "      <th>V28</th>\n",
       "      <th>Amount</th>\n",
       "      <th>Class</th>\n",
       "    </tr>\n",
       "  </thead>\n",
       "  <tbody>\n",
       "    <tr>\n",
       "      <th>0</th>\n",
       "      <td>0.0</td>\n",
       "      <td>-1.359807</td>\n",
       "      <td>-0.072781</td>\n",
       "      <td>2.536347</td>\n",
       "      <td>1.378155</td>\n",
       "      <td>-0.338321</td>\n",
       "      <td>0.462388</td>\n",
       "      <td>0.239599</td>\n",
       "      <td>0.098698</td>\n",
       "      <td>0.363787</td>\n",
       "      <td>...</td>\n",
       "      <td>-0.018307</td>\n",
       "      <td>0.277838</td>\n",
       "      <td>-0.110474</td>\n",
       "      <td>0.066928</td>\n",
       "      <td>0.128539</td>\n",
       "      <td>-0.189115</td>\n",
       "      <td>0.133558</td>\n",
       "      <td>-0.021053</td>\n",
       "      <td>149.62</td>\n",
       "      <td>0</td>\n",
       "    </tr>\n",
       "    <tr>\n",
       "      <th>1</th>\n",
       "      <td>0.0</td>\n",
       "      <td>1.191857</td>\n",
       "      <td>0.266151</td>\n",
       "      <td>0.166480</td>\n",
       "      <td>0.448154</td>\n",
       "      <td>0.060018</td>\n",
       "      <td>-0.082361</td>\n",
       "      <td>-0.078803</td>\n",
       "      <td>0.085102</td>\n",
       "      <td>-0.255425</td>\n",
       "      <td>...</td>\n",
       "      <td>-0.225775</td>\n",
       "      <td>-0.638672</td>\n",
       "      <td>0.101288</td>\n",
       "      <td>-0.339846</td>\n",
       "      <td>0.167170</td>\n",
       "      <td>0.125895</td>\n",
       "      <td>-0.008983</td>\n",
       "      <td>0.014724</td>\n",
       "      <td>2.69</td>\n",
       "      <td>0</td>\n",
       "    </tr>\n",
       "    <tr>\n",
       "      <th>2</th>\n",
       "      <td>1.0</td>\n",
       "      <td>-1.358354</td>\n",
       "      <td>-1.340163</td>\n",
       "      <td>1.773209</td>\n",
       "      <td>0.379780</td>\n",
       "      <td>-0.503198</td>\n",
       "      <td>1.800499</td>\n",
       "      <td>0.791461</td>\n",
       "      <td>0.247676</td>\n",
       "      <td>-1.514654</td>\n",
       "      <td>...</td>\n",
       "      <td>0.247998</td>\n",
       "      <td>0.771679</td>\n",
       "      <td>0.909412</td>\n",
       "      <td>-0.689281</td>\n",
       "      <td>-0.327642</td>\n",
       "      <td>-0.139097</td>\n",
       "      <td>-0.055353</td>\n",
       "      <td>-0.059752</td>\n",
       "      <td>378.66</td>\n",
       "      <td>0</td>\n",
       "    </tr>\n",
       "    <tr>\n",
       "      <th>3</th>\n",
       "      <td>1.0</td>\n",
       "      <td>-0.966272</td>\n",
       "      <td>-0.185226</td>\n",
       "      <td>1.792993</td>\n",
       "      <td>-0.863291</td>\n",
       "      <td>-0.010309</td>\n",
       "      <td>1.247203</td>\n",
       "      <td>0.237609</td>\n",
       "      <td>0.377436</td>\n",
       "      <td>-1.387024</td>\n",
       "      <td>...</td>\n",
       "      <td>-0.108300</td>\n",
       "      <td>0.005274</td>\n",
       "      <td>-0.190321</td>\n",
       "      <td>-1.175575</td>\n",
       "      <td>0.647376</td>\n",
       "      <td>-0.221929</td>\n",
       "      <td>0.062723</td>\n",
       "      <td>0.061458</td>\n",
       "      <td>123.50</td>\n",
       "      <td>0</td>\n",
       "    </tr>\n",
       "    <tr>\n",
       "      <th>4</th>\n",
       "      <td>2.0</td>\n",
       "      <td>-1.158233</td>\n",
       "      <td>0.877737</td>\n",
       "      <td>1.548718</td>\n",
       "      <td>0.403034</td>\n",
       "      <td>-0.407193</td>\n",
       "      <td>0.095921</td>\n",
       "      <td>0.592941</td>\n",
       "      <td>-0.270533</td>\n",
       "      <td>0.817739</td>\n",
       "      <td>...</td>\n",
       "      <td>-0.009431</td>\n",
       "      <td>0.798278</td>\n",
       "      <td>-0.137458</td>\n",
       "      <td>0.141267</td>\n",
       "      <td>-0.206010</td>\n",
       "      <td>0.502292</td>\n",
       "      <td>0.219422</td>\n",
       "      <td>0.215153</td>\n",
       "      <td>69.99</td>\n",
       "      <td>0</td>\n",
       "    </tr>\n",
       "  </tbody>\n",
       "</table>\n",
       "<p>5 rows × 31 columns</p>\n",
       "</div>"
      ],
      "text/plain": [
       "   Time        V1        V2        V3        V4        V5        V6        V7  \\\n",
       "0   0.0 -1.359807 -0.072781  2.536347  1.378155 -0.338321  0.462388  0.239599   \n",
       "1   0.0  1.191857  0.266151  0.166480  0.448154  0.060018 -0.082361 -0.078803   \n",
       "2   1.0 -1.358354 -1.340163  1.773209  0.379780 -0.503198  1.800499  0.791461   \n",
       "3   1.0 -0.966272 -0.185226  1.792993 -0.863291 -0.010309  1.247203  0.237609   \n",
       "4   2.0 -1.158233  0.877737  1.548718  0.403034 -0.407193  0.095921  0.592941   \n",
       "\n",
       "         V8        V9  ...       V21       V22       V23       V24       V25  \\\n",
       "0  0.098698  0.363787  ... -0.018307  0.277838 -0.110474  0.066928  0.128539   \n",
       "1  0.085102 -0.255425  ... -0.225775 -0.638672  0.101288 -0.339846  0.167170   \n",
       "2  0.247676 -1.514654  ...  0.247998  0.771679  0.909412 -0.689281 -0.327642   \n",
       "3  0.377436 -1.387024  ... -0.108300  0.005274 -0.190321 -1.175575  0.647376   \n",
       "4 -0.270533  0.817739  ... -0.009431  0.798278 -0.137458  0.141267 -0.206010   \n",
       "\n",
       "        V26       V27       V28  Amount  Class  \n",
       "0 -0.189115  0.133558 -0.021053  149.62      0  \n",
       "1  0.125895 -0.008983  0.014724    2.69      0  \n",
       "2 -0.139097 -0.055353 -0.059752  378.66      0  \n",
       "3 -0.221929  0.062723  0.061458  123.50      0  \n",
       "4  0.502292  0.219422  0.215153   69.99      0  \n",
       "\n",
       "[5 rows x 31 columns]"
      ]
     },
     "execution_count": 3,
     "metadata": {},
     "output_type": "execute_result"
    }
   ],
   "source": [
    "data.head()"
   ]
  },
  {
   "cell_type": "code",
   "execution_count": 4,
   "metadata": {},
   "outputs": [
    {
     "name": "stdout",
     "output_type": "stream",
     "text": [
      "<class 'pandas.core.frame.DataFrame'>\n",
      "RangeIndex: 284807 entries, 0 to 284806\n",
      "Data columns (total 31 columns):\n",
      "Time      284807 non-null float64\n",
      "V1        284807 non-null float64\n",
      "V2        284807 non-null float64\n",
      "V3        284807 non-null float64\n",
      "V4        284807 non-null float64\n",
      "V5        284807 non-null float64\n",
      "V6        284807 non-null float64\n",
      "V7        284807 non-null float64\n",
      "V8        284807 non-null float64\n",
      "V9        284807 non-null float64\n",
      "V10       284807 non-null float64\n",
      "V11       284807 non-null float64\n",
      "V12       284807 non-null float64\n",
      "V13       284807 non-null float64\n",
      "V14       284807 non-null float64\n",
      "V15       284807 non-null float64\n",
      "V16       284807 non-null float64\n",
      "V17       284807 non-null float64\n",
      "V18       284807 non-null float64\n",
      "V19       284807 non-null float64\n",
      "V20       284807 non-null float64\n",
      "V21       284807 non-null float64\n",
      "V22       284807 non-null float64\n",
      "V23       284807 non-null float64\n",
      "V24       284807 non-null float64\n",
      "V25       284807 non-null float64\n",
      "V26       284807 non-null float64\n",
      "V27       284807 non-null float64\n",
      "V28       284807 non-null float64\n",
      "Amount    284807 non-null float64\n",
      "Class     284807 non-null int64\n",
      "dtypes: float64(30), int64(1)\n",
      "memory usage: 67.4 MB\n"
     ]
    }
   ],
   "source": [
    "data.info()"
   ]
  },
  {
   "cell_type": "code",
   "execution_count": 5,
   "metadata": {},
   "outputs": [
    {
     "data": {
      "text/plain": [
       "<matplotlib.axes._subplots.AxesSubplot at 0x1fe4d1a43c8>"
      ]
     },
     "execution_count": 5,
     "metadata": {},
     "output_type": "execute_result"
    },
    {
     "data": {
      "image/png": "[encoded data removed]",
      "text/plain": [
       "<Figure size 1440x720 with 1 Axes>"
      ]
     },
     "metadata": {
      "needs_background": "light"
     },
     "output_type": "display_data"
    }
   ],
   "source": [
    "data.corrwith(data.Class).plot.bar(\n",
    "        figsize = (20, 10), title = \"Correlation with class\", fontsize = 15,\n",
    "        grid = False)"
   ]
  },
  {
   "cell_type": "code",
   "execution_count": null,
   "metadata": {},
   "outputs": [],
   "source": []
  },
  {
   "cell_type": "code",
   "execution_count": null,
   "metadata": {},
   "outputs": [],
   "source": []
  },
  {
   "cell_type": "code",
   "execution_count": 6,
   "metadata": {},
   "outputs": [
    {
     "data": {
      "text/plain": [
       "Time      False\n",
       "V1        False\n",
       "V2        False\n",
       "V3        False\n",
       "V4        False\n",
       "V5        False\n",
       "V6        False\n",
       "V7        False\n",
       "V8        False\n",
       "V9        False\n",
       "V10       False\n",
       "V11       False\n",
       "V12       False\n",
       "V13       False\n",
       "V14       False\n",
       "V15       False\n",
       "V16       False\n",
       "V17       False\n",
       "V18       False\n",
       "V19       False\n",
       "V20       False\n",
       "V21       False\n",
       "V22       False\n",
       "V23       False\n",
       "V24       False\n",
       "V25       False\n",
       "V26       False\n",
       "V27       False\n",
       "V28       False\n",
       "Amount    False\n",
       "Class     False\n",
       "dtype: bool"
      ]
     },
     "execution_count": 6,
     "metadata": {},
     "output_type": "execute_result"
    }
   ],
   "source": [
    "data.isna().any()"
   ]
  },
  {
   "cell_type": "code",
   "execution_count": null,
   "metadata": {},
   "outputs": [],
   "source": []
  },
  {
   "cell_type": "code",
   "execution_count": null,
   "metadata": {},
   "outputs": [],
   "source": []
  },
  {
   "cell_type": "code",
   "execution_count": 7,
   "metadata": {},
   "outputs": [],
   "source": [
    "X = data.iloc[:, data.columns != 'Class']\n",
    "y = data.iloc[:, data.columns == 'Class']"
   ]
  },
  {
   "cell_type": "code",
   "execution_count": 8,
   "metadata": {},
   "outputs": [
    {
     "name": "stdout",
     "output_type": "stream",
     "text": [
      "<class 'pandas.core.frame.DataFrame'>\n",
      "RangeIndex: 284807 entries, 0 to 284806\n",
      "Data columns (total 30 columns):\n",
      "Time      284807 non-null float64\n",
      "V1        284807 non-null float64\n",
      "V2        284807 non-null float64\n",
      "V3        284807 non-null float64\n",
      "V4        284807 non-null float64\n",
      "V5        284807 non-null float64\n",
      "V6        284807 non-null float64\n",
      "V7        284807 non-null float64\n",
      "V8        284807 non-null float64\n",
      "V9        284807 non-null float64\n",
      "V10       284807 non-null float64\n",
      "V11       284807 non-null float64\n",
      "V12       284807 non-null float64\n",
      "V13       284807 non-null float64\n",
      "V14       284807 non-null float64\n",
      "V15       284807 non-null float64\n",
      "V16       284807 non-null float64\n",
      "V17       284807 non-null float64\n",
      "V18       284807 non-null float64\n",
      "V19       284807 non-null float64\n",
      "V20       284807 non-null float64\n",
      "V21       284807 non-null float64\n",
      "V22       284807 non-null float64\n",
      "V23       284807 non-null float64\n",
      "V24       284807 non-null float64\n",
      "V25       284807 non-null float64\n",
      "V26       284807 non-null float64\n",
      "V27       284807 non-null float64\n",
      "V28       284807 non-null float64\n",
      "Amount    284807 non-null float64\n",
      "dtypes: float64(30)\n",
      "memory usage: 65.2 MB\n"
     ]
    }
   ],
   "source": [
    "X.info()"
   ]
  },
  {
   "cell_type": "code",
   "execution_count": 9,
   "metadata": {},
   "outputs": [
    {
     "data": {
      "text/html": [
       "<div>\n",
       "<style scoped>\n",
       "    .dataframe tbody tr th:only-of-type {\n",
       "        vertical-align: middle;\n",
       "    }\n",
       "\n",
       "    .dataframe tbody tr th {\n",
       "        vertical-align: top;\n",
       "    }\n",
       "\n",
       "    .dataframe thead th {\n",
       "        text-align: right;\n",
       "    }\n",
       "</style>\n",
       "<table border=\"1\" class=\"dataframe\">\n",
       "  <thead>\n",
       "    <tr style=\"text-align: right;\">\n",
       "      <th></th>\n",
       "      <th>Class</th>\n",
       "    </tr>\n",
       "  </thead>\n",
       "  <tbody>\n",
       "    <tr>\n",
       "      <th>0</th>\n",
       "      <td>0</td>\n",
       "    </tr>\n",
       "    <tr>\n",
       "      <th>1</th>\n",
       "      <td>0</td>\n",
       "    </tr>\n",
       "    <tr>\n",
       "      <th>2</th>\n",
       "      <td>0</td>\n",
       "    </tr>\n",
       "    <tr>\n",
       "      <th>3</th>\n",
       "      <td>0</td>\n",
       "    </tr>\n",
       "    <tr>\n",
       "      <th>4</th>\n",
       "      <td>0</td>\n",
       "    </tr>\n",
       "  </tbody>\n",
       "</table>\n",
       "</div>"
      ],
      "text/plain": [
       "   Class\n",
       "0      0\n",
       "1      0\n",
       "2      0\n",
       "3      0\n",
       "4      0"
      ]
     },
     "execution_count": 9,
     "metadata": {},
     "output_type": "execute_result"
    }
   ],
   "source": [
    "y.head()"
   ]
  },
  {
   "cell_type": "code",
   "execution_count": 10,
   "metadata": {},
   "outputs": [],
   "source": [
    "from sklearn.model_selection import train_test_split\n",
    "X_train, X_test, y_train, y_test = train_test_split(X,y, test_size = 0.3, random_state=0)"
   ]
  },
  {
   "cell_type": "code",
   "execution_count": 11,
   "metadata": {},
   "outputs": [
    {
     "name": "stderr",
     "output_type": "stream",
     "text": [
      "WARNING: Logging before flag parsing goes to stderr.\n",
      "W0920 15:25:05.845428  1104 deprecation_wrapper.py:119] From C:\\Users\\Roh\\Anaconda3\\lib\\site-packages\\keras\\backend\\tensorflow_backend.py:74: The name tf.get_default_graph is deprecated. Please use tf.compat.v1.get_default_graph instead.\n",
      "\n",
      "W0920 15:25:06.847962  1104 deprecation_wrapper.py:119] From C:\\Users\\Roh\\Anaconda3\\lib\\site-packages\\keras\\backend\\tensorflow_backend.py:517: The name tf.placeholder is deprecated. Please use tf.compat.v1.placeholder instead.\n",
      "\n",
      "W0920 15:25:06.968897  1104 deprecation_wrapper.py:119] From C:\\Users\\Roh\\Anaconda3\\lib\\site-packages\\keras\\backend\\tensorflow_backend.py:4138: The name tf.random_uniform is deprecated. Please use tf.random.uniform instead.\n",
      "\n",
      "W0920 15:25:07.124868  1104 deprecation_wrapper.py:119] From C:\\Users\\Roh\\Anaconda3\\lib\\site-packages\\keras\\optimizers.py:790: The name tf.train.Optimizer is deprecated. Please use tf.compat.v1.train.Optimizer instead.\n",
      "\n",
      "W0920 15:25:07.187412  1104 deprecation_wrapper.py:119] From C:\\Users\\Roh\\Anaconda3\\lib\\site-packages\\keras\\backend\\tensorflow_backend.py:3376: The name tf.log is deprecated. Please use tf.math.log instead.\n",
      "\n",
      "W0920 15:25:07.200345  1104 deprecation.py:323] From C:\\Users\\Roh\\Anaconda3\\lib\\site-packages\\tensorflow\\python\\ops\\nn_impl.py:180: add_dispatch_support.<locals>.wrapper (from tensorflow.python.ops.array_ops) is deprecated and will be removed in a future version.\n",
      "Instructions for updating:\n",
      "Use tf.where in 2.0, which has the same broadcast rule as np.where\n",
      "W0920 15:25:08.076448  1104 deprecation_wrapper.py:119] From C:\\Users\\Roh\\Anaconda3\\lib\\site-packages\\keras\\backend\\tensorflow_backend.py:986: The name tf.assign_add is deprecated. Please use tf.compat.v1.assign_add instead.\n",
      "\n"
     ]
    },
    {
     "name": "stdout",
     "output_type": "stream",
     "text": [
      "Epoch 1/100\n",
      "199364/199364 [==============================] - 15s 73us/step - loss: 0.0285 - acc: 0.9981\n",
      "Epoch 2/100\n",
      "199364/199364 [==============================] - 11s 57us/step - loss: 0.0279 - acc: 0.9983\n",
      "Epoch 3/100\n",
      "199364/199364 [==============================] - 11s 57us/step - loss: 0.0279 - acc: 0.9983\n",
      "Epoch 4/100\n",
      "199364/199364 [==============================] - 11s 55us/step - loss: 0.0279 - acc: 0.9983\n",
      "Epoch 5/100\n",
      "199364/199364 [==============================] - 12s 60us/step - loss: 0.0279 - acc: 0.9983\n",
      "Epoch 6/100\n",
      "199364/199364 [==============================] - 13s 67us/step - loss: 0.0279 - acc: 0.9983\n",
      "Epoch 7/100\n",
      "199364/199364 [==============================] - 12s 61us/step - loss: 0.0279 - acc: 0.9983\n",
      "Epoch 8/100\n",
      "199364/199364 [==============================] - 12s 61us/step - loss: 0.0279 - acc: 0.9983\n",
      "Epoch 9/100\n",
      "199364/199364 [==============================] - 12s 61us/step - loss: 0.0279 - acc: 0.9983\n",
      "Epoch 10/100\n",
      "199364/199364 [==============================] - 12s 58us/step - loss: 0.0279 - acc: 0.9983\n",
      "Epoch 11/100\n",
      "199364/199364 [==============================] - 11s 57us/step - loss: 0.0279 - acc: 0.9983\n",
      "Epoch 12/100\n",
      "199364/199364 [==============================] - 11s 58us/step - loss: 0.0279 - acc: 0.9983\n",
      "Epoch 13/100\n",
      "199364/199364 [==============================] - 12s 60us/step - loss: 0.0279 - acc: 0.9983\n",
      "Epoch 14/100\n",
      "199364/199364 [==============================] - 12s 60us/step - loss: 0.0279 - acc: 0.9983\n",
      "Epoch 15/100\n",
      "199364/199364 [==============================] - 12s 58us/step - loss: 0.0279 - acc: 0.9983\n",
      "Epoch 16/100\n",
      "199364/199364 [==============================] - 13s 65us/step - loss: 0.0279 - acc: 0.9983\n",
      "Epoch 17/100\n",
      "199364/199364 [==============================] - 12s 61us/step - loss: 0.0279 - acc: 0.9983\n",
      "Epoch 18/100\n",
      "199364/199364 [==============================] - 12s 60us/step - loss: 0.0279 - acc: 0.9983\n",
      "Epoch 19/100\n",
      "199364/199364 [==============================] - 12s 58us/step - loss: 0.0279 - acc: 0.9983\n",
      "Epoch 20/100\n",
      "199364/199364 [==============================] - 12s 60us/step - loss: 0.0279 - acc: 0.9983\n",
      "Epoch 21/100\n",
      "199364/199364 [==============================] - 12s 59us/step - loss: 0.0279 - acc: 0.9983\n",
      "Epoch 22/100\n",
      "199364/199364 [==============================] - 12s 60us/step - loss: 0.0279 - acc: 0.9983\n",
      "Epoch 23/100\n",
      "199364/199364 [==============================] - 12s 61us/step - loss: 0.0279 - acc: 0.9983\n",
      "Epoch 24/100\n",
      "199364/199364 [==============================] - 13s 64us/step - loss: 0.0279 - acc: 0.9983\n",
      "Epoch 25/100\n",
      "199364/199364 [==============================] - 13s 67us/step - loss: 0.0279 - acc: 0.9983\n",
      "Epoch 26/100\n",
      "199364/199364 [==============================] - 13s 64us/step - loss: 0.0279 - acc: 0.9983\n",
      "Epoch 27/100\n",
      "199364/199364 [==============================] - 12s 60us/step - loss: 0.0279 - acc: 0.9983\n",
      "Epoch 28/100\n",
      "199364/199364 [==============================] - 11s 57us/step - loss: 0.0279 - acc: 0.9983\n",
      "Epoch 29/100\n",
      "199364/199364 [==============================] - 12s 58us/step - loss: 0.0279 - acc: 0.9983\n",
      "Epoch 30/100\n",
      "199364/199364 [==============================] - 11s 57us/step - loss: 0.0279 - acc: 0.9983\n",
      "Epoch 31/100\n",
      "199364/199364 [==============================] - 11s 57us/step - loss: 0.0279 - acc: 0.9983\n",
      "Epoch 32/100\n",
      "199364/199364 [==============================] - 13s 63us/step - loss: 0.0279 - acc: 0.9983\n",
      "Epoch 33/100\n",
      "199364/199364 [==============================] - 12s 61us/step - loss: 0.0279 - acc: 0.9983\n",
      "Epoch 34/100\n",
      "199364/199364 [==============================] - 12s 62us/step - loss: 0.0279 - acc: 0.9983\n",
      "Epoch 35/100\n",
      "199364/199364 [==============================] - 12s 58us/step - loss: 0.0279 - acc: 0.9983\n",
      "Epoch 36/100\n",
      "199364/199364 [==============================] - 11s 57us/step - loss: 0.0279 - acc: 0.9983\n",
      "Epoch 37/100\n",
      "199364/199364 [==============================] - 11s 56us/step - loss: 0.0279 - acc: 0.9983\n",
      "Epoch 38/100\n",
      "199364/199364 [==============================] - 11s 56us/step - loss: 0.0279 - acc: 0.9983\n",
      "Epoch 39/100\n",
      "199364/199364 [==============================] - 11s 57us/step - loss: 0.0279 - acc: 0.9983\n",
      "Epoch 40/100\n",
      "199364/199364 [==============================] - 11s 58us/step - loss: 0.0279 - acc: 0.9983\n",
      "Epoch 41/100\n",
      "199364/199364 [==============================] - 12s 61us/step - loss: 0.0279 - acc: 0.9983\n",
      "Epoch 42/100\n",
      "199364/199364 [==============================] - 12s 59us/step - loss: 0.0279 - acc: 0.9983\n",
      "Epoch 43/100\n",
      "199364/199364 [==============================] - 11s 57us/step - loss: 0.0279 - acc: 0.9983\n",
      "Epoch 44/100\n",
      "199364/199364 [==============================] - 11s 57us/step - loss: 0.0279 - acc: 0.9983\n",
      "Epoch 45/100\n",
      "199364/199364 [==============================] - 11s 57us/step - loss: 0.0279 - acc: 0.9983\n",
      "Epoch 46/100\n",
      "199364/199364 [==============================] - 12s 60us/step - loss: 0.0279 - acc: 0.9983\n",
      "Epoch 47/100\n",
      "199364/199364 [==============================] - 12s 60us/step - loss: 0.0279 - acc: 0.9983\n",
      "Epoch 48/100\n",
      "199364/199364 [==============================] - 12s 61us/step - loss: 0.0279 - acc: 0.9983\n",
      "Epoch 49/100\n",
      "199364/199364 [==============================] - 12s 62us/step - loss: 0.0279 - acc: 0.9983\n",
      "Epoch 50/100\n",
      "199364/199364 [==============================] - 12s 61us/step - loss: 0.0279 - acc: 0.9983\n",
      "Epoch 51/100\n",
      "199364/199364 [==============================] - 12s 58us/step - loss: 0.0279 - acc: 0.9983\n",
      "Epoch 52/100\n",
      "199364/199364 [==============================] - 11s 58us/step - loss: 0.0279 - acc: 0.9983\n",
      "Epoch 53/100\n",
      "199364/199364 [==============================] - 12s 63us/step - loss: 0.0279 - acc: 0.9983\n",
      "Epoch 54/100\n",
      "199364/199364 [==============================] - 13s 65us/step - loss: 0.0279 - acc: 0.9983\n",
      "Epoch 55/100\n",
      "199364/199364 [==============================] - 13s 65us/step - loss: 0.0279 - acc: 0.9983\n",
      "Epoch 56/100\n",
      "199364/199364 [==============================] - 12s 60us/step - loss: 0.0279 - acc: 0.9983\n",
      "Epoch 57/100\n",
      "199364/199364 [==============================] - 14s 70us/step - loss: 0.0279 - acc: 0.9983\n",
      "Epoch 58/100\n",
      "199364/199364 [==============================] - 13s 67us/step - loss: 0.0279 - acc: 0.9983\n",
      "Epoch 59/100\n",
      "199364/199364 [==============================] - 13s 65us/step - loss: 0.0279 - acc: 0.9983\n",
      "Epoch 60/100\n",
      "199364/199364 [==============================] - 13s 65us/step - loss: 0.0279 - acc: 0.9983\n",
      "Epoch 61/100\n",
      "199364/199364 [==============================] - 13s 63us/step - loss: 0.0279 - acc: 0.9983\n",
      "Epoch 62/100\n",
      "199364/199364 [==============================] - 12s 62us/step - loss: 0.0279 - acc: 0.9983\n",
      "Epoch 63/100\n",
      "199364/199364 [==============================] - 12s 63us/step - loss: 0.0279 - acc: 0.9983\n",
      "Epoch 64/100\n",
      "199364/199364 [==============================] - 13s 63us/step - loss: 0.0279 - acc: 0.9983\n",
      "Epoch 65/100\n",
      "199364/199364 [==============================] - 13s 68us/step - loss: 0.0279 - acc: 0.9983\n",
      "Epoch 66/100\n",
      "199364/199364 [==============================] - 14s 68us/step - loss: 0.0279 - acc: 0.9983\n",
      "Epoch 67/100\n",
      "199364/199364 [==============================] - 13s 67us/step - loss: 0.0279 - acc: 0.9983\n",
      "Epoch 68/100\n",
      "199364/199364 [==============================] - 14s 68us/step - loss: 0.0279 - acc: 0.9983\n",
      "Epoch 69/100\n",
      "199364/199364 [==============================] - 14s 70us/step - loss: 0.0279 - acc: 0.9983\n",
      "Epoch 70/100\n",
      "199364/199364 [==============================] - 13s 65us/step - loss: 0.0279 - acc: 0.9983\n",
      "Epoch 71/100\n",
      "199364/199364 [==============================] - 13s 66us/step - loss: 0.0279 - acc: 0.9983\n",
      "Epoch 72/100\n",
      "199364/199364 [==============================] - 15s 73us/step - loss: 0.0279 - acc: 0.9983\n",
      "Epoch 73/100\n",
      "199364/199364 [==============================] - 14s 69us/step - loss: 0.0279 - acc: 0.9983\n",
      "Epoch 74/100\n",
      "199364/199364 [==============================] - 13s 64us/step - loss: 0.0279 - acc: 0.9983\n",
      "Epoch 75/100\n",
      "199364/199364 [==============================] - 13s 63us/step - loss: 0.0279 - acc: 0.9983\n",
      "Epoch 76/100\n",
      "199364/199364 [==============================] - 13s 64us/step - loss: 0.0279 - acc: 0.9983\n",
      "Epoch 77/100\n",
      "199364/199364 [==============================] - 13s 66us/step - loss: 0.0279 - acc: 0.9983\n",
      "Epoch 78/100\n",
      "199364/199364 [==============================] - 14s 69us/step - loss: 0.0279 - acc: 0.9983\n",
      "Epoch 79/100\n"
     ]
    },
    {
     "name": "stdout",
     "output_type": "stream",
     "text": [
      "199364/199364 [==============================] - 12s 61us/step - loss: 0.0279 - acc: 0.9983\n",
      "Epoch 80/100\n",
      "199364/199364 [==============================] - 13s 65us/step - loss: 0.0279 - acc: 0.9983\n",
      "Epoch 81/100\n",
      "199364/199364 [==============================] - 13s 64us/step - loss: 0.0279 - acc: 0.9983\n",
      "Epoch 82/100\n",
      "199364/199364 [==============================] - 13s 64us/step - loss: 0.0279 - acc: 0.9983\n",
      "Epoch 83/100\n",
      "199364/199364 [==============================] - 13s 63us/step - loss: 0.0279 - acc: 0.9983\n",
      "Epoch 84/100\n",
      "199364/199364 [==============================] - 12s 61us/step - loss: 0.0279 - acc: 0.9983\n",
      "Epoch 85/100\n",
      "199364/199364 [==============================] - 12s 60us/step - loss: 0.0279 - acc: 0.9983\n",
      "Epoch 86/100\n",
      "199364/199364 [==============================] - 12s 61us/step - loss: 0.0279 - acc: 0.9983\n",
      "Epoch 87/100\n",
      "199364/199364 [==============================] - 12s 60us/step - loss: 0.0279 - acc: 0.9983\n",
      "Epoch 88/100\n",
      "199364/199364 [==============================] - 13s 63us/step - loss: 0.0279 - acc: 0.9983\n",
      "Epoch 89/100\n",
      "199364/199364 [==============================] - 13s 64us/step - loss: 0.0279 - acc: 0.9983\n",
      "Epoch 90/100\n",
      "199364/199364 [==============================] - 12s 60us/step - loss: 0.0279 - acc: 0.9983\n",
      "Epoch 91/100\n",
      "199364/199364 [==============================] - 12s 62us/step - loss: 0.0279 - acc: 0.9983\n",
      "Epoch 92/100\n",
      "199364/199364 [==============================] - 13s 64us/step - loss: 0.0279 - acc: 0.9983\n",
      "Epoch 93/100\n",
      "199364/199364 [==============================] - 13s 64us/step - loss: 0.0279 - acc: 0.9983\n",
      "Epoch 94/100\n",
      "199364/199364 [==============================] - 13s 66us/step - loss: 0.0279 - acc: 0.9983\n",
      "Epoch 95/100\n",
      "199364/199364 [==============================] - 14s 69us/step - loss: 0.0279 - acc: 0.9983\n",
      "Epoch 96/100\n",
      "199364/199364 [==============================] - 14s 69us/step - loss: 0.0279 - acc: 0.9983\n",
      "Epoch 97/100\n",
      "199364/199364 [==============================] - 13s 67us/step - loss: 0.0279 - acc: 0.9983\n",
      "Epoch 98/100\n",
      "199364/199364 [==============================] - 13s 66us/step - loss: 0.0279 - acc: 0.9983\n",
      "Epoch 99/100\n",
      "199364/199364 [==============================] - 13s 64us/step - loss: 0.0279 - acc: 0.9983\n",
      "Epoch 100/100\n",
      "199364/199364 [==============================] - 12s 62us/step - loss: 0.0279 - acc: 0.9983\n"
     ]
    },
    {
     "data": {
      "text/plain": [
       "<keras.callbacks.History at 0x1fe4e23ea58>"
      ]
     },
     "execution_count": 11,
     "metadata": {},
     "output_type": "execute_result"
    }
   ],
   "source": [
    "import keras\n",
    "from keras.models import Sequential\n",
    "from keras.layers import Dense\n",
    "\n",
    "classifier = Sequential()\n",
    "\n",
    "classifier.add(Dense(units =15 , kernel_initializer = 'uniform', activation = 'relu', input_dim = 30))\n",
    "\n",
    "classifier.add(Dense(units = 15, kernel_initializer = 'uniform', activation = 'relu'))\n",
    "\n",
    "classifier.add(Dense(units = 1, kernel_initializer = 'uniform', activation = 'sigmoid'))\n",
    "\n",
    "classifier.compile(optimizer = 'adam', loss = 'binary_crossentropy', metrics = ['accuracy'])\n",
    "\n",
    "classifier.fit(X_train, y_train, batch_size = 32, epochs = 100)"
   ]
  },
  {
   "cell_type": "code",
   "execution_count": 12,
   "metadata": {},
   "outputs": [],
   "source": [
    "y_pred = classifier.predict(X_test)\n",
    "y_pred = (y_pred > 0.1)"
   ]
  },
  {
   "cell_type": "code",
   "execution_count": 13,
   "metadata": {},
   "outputs": [
    {
     "name": "stdout",
     "output_type": "stream",
     "text": [
      "85443/85443 [==============================] - 3s 38us/step\n"
     ]
    },
    {
     "data": {
      "text/plain": [
       "[0.02773039775430765, 0.9982795547909132]"
      ]
     },
     "execution_count": 13,
     "metadata": {},
     "output_type": "execute_result"
    }
   ],
   "source": [
    "score = classifier.evaluate(X_test, y_test)\n",
    "score"
   ]
  },
  {
   "cell_type": "code",
   "execution_count": 14,
   "metadata": {},
   "outputs": [],
   "source": [
    "from sklearn.metrics import confusion_matrix\n",
    "cm = confusion_matrix(y_test, y_pred)"
   ]
  },
  {
   "cell_type": "code",
   "execution_count": 15,
   "metadata": {},
   "outputs": [
    {
     "data": {
      "text/plain": [
       "array([[85296,     0],\n",
       "       [  147,     0]], dtype=int64)"
      ]
     },
     "execution_count": 15,
     "metadata": {},
     "output_type": "execute_result"
    }
   ],
   "source": [
    "cm"
   ]
  },
  {
   "cell_type": "code",
   "execution_count": null,
   "metadata": {},
   "outputs": [],
   "source": []
  },
  {
   "cell_type": "code",
   "execution_count": 16,
   "metadata": {},
   "outputs": [],
   "source": [
    "from sklearn.metrics import accuracy_score"
   ]
  },
  {
   "cell_type": "code",
   "execution_count": null,
   "metadata": {},
   "outputs": [],
   "source": []
  },
  {
   "cell_type": "code",
   "execution_count": 17,
   "metadata": {},
   "outputs": [
    {
     "data": {
      "text/plain": [
       "<matplotlib.axes._subplots.AxesSubplot at 0x1fe52c849b0>"
      ]
     },
     "execution_count": 17,
     "metadata": {},
     "output_type": "execute_result"
    },
    {
     "data": {
      "image/png": "[encoded data removed]",
      "text/plain": [
       "<Figure size 720x504 with 2 Axes>"
      ]
     },
     "metadata": {
      "needs_background": "light"
     },
     "output_type": "display_data"
    }
   ],
   "source": [
    "cm = confusion_matrix(y_test, y_pred) \n",
    "results = pd.DataFrame(cm, index = (0, 1), columns = (0, 1))\n",
    "plt.figure(figsize=(10,7))\n",
    "sn.set(font_scale=1.4)\n",
    "sn.heatmap(results, annot=True, fmt='g')"
   ]
  },
  {
   "cell_type": "code",
   "execution_count": 18,
   "metadata": {},
   "outputs": [
    {
     "name": "stdout",
     "output_type": "stream",
     "text": [
      "        Class\n",
      "183484      0\n",
      "255448      0\n",
      "244749      0\n",
      "63919       0\n",
      "11475       0\n",
      "134016      0\n",
      "204962      0\n",
      "60121       0\n",
      "167362      0\n",
      "112790      0\n",
      "202391      0\n",
      "209695      0\n",
      "68361       0\n",
      "224208      0\n",
      "32583       0\n",
      "134258      0\n",
      "187243      0\n",
      "145419      0\n",
      "245566      0\n",
      "11553       0\n",
      "220848      0\n",
      "239278      0\n",
      "21330       0\n",
      "18027       0\n",
      "197746      0\n",
      "272672      0\n",
      "141351      0\n",
      "264200      0\n",
      "127575      0\n",
      "110998      0\n",
      "...       ...\n",
      "276568      0\n",
      "231529      0\n",
      "89308       0\n",
      "267373      0\n",
      "34413       0\n",
      "247649      0\n",
      "97729       0\n",
      "53374       0\n",
      "46145       0\n",
      "263180      0\n",
      "18162       0\n",
      "24989       0\n",
      "264151      0\n",
      "109457      0\n",
      "7130        0\n",
      "217940      0\n",
      "185464      0\n",
      "35703       0\n",
      "115340      0\n",
      "122340      0\n",
      "184209      0\n",
      "222795      0\n",
      "124164      0\n",
      "80329       0\n",
      "195998      0\n",
      "208059      0\n",
      "260930      0\n",
      "75125       0\n",
      "37292       0\n",
      "240913      0\n",
      "\n",
      "[85443 rows x 1 columns] [[False]\n",
      " [False]\n",
      " [False]\n",
      " ...\n",
      " [False]\n",
      " [False]\n",
      " [False]]\n"
     ]
    }
   ],
   "source": [
    "print(y_test, y_pred)"
   ]
  },
  {
   "cell_type": "code",
   "execution_count": null,
   "metadata": {},
   "outputs": [],
   "source": []
  },
  {
   "cell_type": "code",
   "execution_count": null,
   "metadata": {},
   "outputs": [],
   "source": []
  }
 ],
 "metadata": {
  "kernelspec": {
   "display_name": "Python 3",
   "language": "python",
   "name": "python3"
  },
  "language_info": {
   "codemirror_mode": {
    "name": "ipython",
    "version": 3
   },
   "file_extension": ".py",
   "mimetype": "text/x-python",
   "name": "python",
   "nbconvert_exporter": "python",
   "pygments_lexer": "ipython3",
   "version": "3.7.3"
  }
 },
 "nbformat": 4,
 "nbformat_minor": 2
}
